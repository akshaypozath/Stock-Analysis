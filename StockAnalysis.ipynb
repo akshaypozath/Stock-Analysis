{
  "nbformat": 4,
  "nbformat_minor": 0,
  "metadata": {
    "colab": {
      "provenance": []
    },
    "kernelspec": {
      "name": "python3",
      "display_name": "Python 3"
    },
    "language_info": {
      "name": "python"
    }
  },
  "cells": [
    {
      "cell_type": "markdown",
      "source": [
        "\n",
        "\n",
        "```\n",
        "# This is formatted as code\n",
        "```\n",
        "\n",
        "# STOCK SENTIMENT ANALYSIS"
      ],
      "metadata": {
        "id": "FTzPPhNWeH6W"
      }
    },
    {
      "cell_type": "code",
      "execution_count": 1,
      "metadata": {
        "id": "iKJa8Qfbd7DT"
      },
      "outputs": [],
      "source": [
        "import numpy as np\n",
        "import pandas as pd"
      ]
    },
    {
      "cell_type": "code",
      "source": [
        "df = pd.read_csv('StockHeadlines.csv', encoding='ISO-8859-1')"
      ],
      "metadata": {
        "id": "h1PXc4_deXU7"
      },
      "execution_count": 3,
      "outputs": []
    },
    {
      "cell_type": "code",
      "source": [
        "import matplotlib.pyplot as plt\n",
        "import seaborn as sns\n",
        "%matplotlib inline"
      ],
      "metadata": {
        "id": "TjEFa9cBecCq"
      },
      "execution_count": 5,
      "outputs": []
    },
    {
      "cell_type": "code",
      "source": [
        "plt.figure(figsize=(8,8))\n",
        "sns.countplot(x='Label', data=df)\n",
        "plt.xlabel('Stock Sentiments (0-Will go Down or Level, 1-Will go Up)')\n",
        "plt.ylabel('Count')\n",
        "plt.show()"
      ],
      "metadata": {
        "colab": {
          "base_uri": "https://localhost:8080/",
          "height": 696
        },
        "id": "Ewef3bcUep7f",
        "outputId": "9e94faad-6163-48c7-9b61-e463af6497e1"
      },
      "execution_count": 44,
      "outputs": [
        {
          "output_type": "display_data",
          "data": {
            "text/plain": [
              "<Figure size 800x800 with 1 Axes>"
            ],
            "image/png": "[encoded data removed]"
          },
          "metadata": {}
        }
      ]
    },
    {
      "cell_type": "markdown",
      "source": [
        "# Data Cleaning"
      ],
      "metadata": {
        "id": "Svl1Irdue9jY"
      }
    },
    {
      "cell_type": "code",
      "source": [
        "df.dropna(inplace=True)\n",
        "print(df.shape)"
      ],
      "metadata": {
        "colab": {
          "base_uri": "https://localhost:8080/"
        },
        "id": "jdyPmSmje8QP",
        "outputId": "163d94c5-679d-40b9-8d96-dad218a8dc53"
      },
      "execution_count": 8,
      "outputs": [
        {
          "output_type": "stream",
          "name": "stdout",
          "text": [
            "(4098, 27)\n"
          ]
        }
      ]
    },
    {
      "cell_type": "code",
      "source": [
        "df_copy = df.copy()"
      ],
      "metadata": {
        "id": "UxfsEHYAfFoB"
      },
      "execution_count": 9,
      "outputs": []
    },
    {
      "cell_type": "code",
      "source": [
        "df_copy.reset_index(inplace=True)"
      ],
      "metadata": {
        "id": "oVbU4btnfKw1"
      },
      "execution_count": 10,
      "outputs": []
    },
    {
      "cell_type": "code",
      "source": [
        "train = df_copy[df_copy['Date'] < '20150101']\n",
        "test = df_copy[df_copy['Date'] > '20141231']\n",
        "print('Train size: {}, Test size: {}'.format(train.shape, test.shape))\n",
        "#Train Test"
      ],
      "metadata": {
        "colab": {
          "base_uri": "https://localhost:8080/"
        },
        "id": "1wRV8fsefNBj",
        "outputId": "01ba5ce4-c75e-4949-fdcb-cf284aa657b0"
      },
      "execution_count": 12,
      "outputs": [
        {
          "output_type": "stream",
          "name": "stdout",
          "text": [
            "Train size: (3972, 28), Test size: (378, 28)\n"
          ]
        }
      ]
    },
    {
      "cell_type": "code",
      "source": [
        "y_train = train['Label']\n",
        "train = train.iloc[:, 3:28]\n",
        "y_test = test['Label']\n",
        "test = test.iloc[:, 3:28]"
      ],
      "metadata": {
        "id": "2pngb3a1fPj0"
      },
      "execution_count": 13,
      "outputs": []
    },
    {
      "cell_type": "code",
      "source": [
        "import nltk\n",
        "nltk.download('stopwords')\n",
        "from nltk.corpus import stopwords\n",
        "from nltk.stem import PorterStemmer"
      ],
      "metadata": {
        "colab": {
          "base_uri": "https://localhost:8080/"
        },
        "id": "t2plBnbhfqdQ",
        "outputId": "e22eea62-6e08-4731-9427-167ede324345"
      },
      "execution_count": 14,
      "outputs": [
        {
          "output_type": "stream",
          "name": "stderr",
          "text": [
            "[nltk_data] Downloading package stopwords to /root/nltk_data...\n",
            "[nltk_data]   Unzipping corpora/stopwords.zip.\n"
          ]
        }
      ]
    },
    {
      "cell_type": "code",
      "source": [
        "train.replace(to_replace='[^a-zA-Z]', value=' ', regex=True, inplace=True)\n",
        "test.replace(to_replace='[^a-zA-Z]', value=' ', regex=True, inplace=True)\n",
        "#Remove the punct"
      ],
      "metadata": {
        "id": "IrCdMu4LfsWa"
      },
      "execution_count": 15,
      "outputs": []
    },
    {
      "cell_type": "code",
      "source": [
        "new_columns = [str(i) for i in range(0,25)]\n",
        "train.columns = new_columns\n",
        "test.columns = new_columns"
      ],
      "metadata": {
        "id": "1m9x7CPefyvG"
      },
      "execution_count": 16,
      "outputs": []
    },
    {
      "cell_type": "code",
      "source": [
        "\n",
        "for i in new_columns:\n",
        "  train[i] = train[i].str.lower()\n",
        "  test[i] = test[i].str.lower()\n",
        "# Joining\n",
        "train_headlines = []\n",
        "test_headlines = []\n",
        "\n",
        "for row in range(0, train.shape[0]):\n",
        "  train_headlines.append(' '.join(str(x) for x in train.iloc[row, 0:25]))\n",
        "\n",
        "for row in range(0, test.shape[0]):\n",
        "  test_headlines.append(' '.join(str(x) for x in test.iloc[row, 0:25]))\n",
        "train_headlines[0]"
      ],
      "metadata": {
        "colab": {
          "base_uri": "https://localhost:8080/",
          "height": 160
        },
        "id": "qpuUFcwAf1a3",
        "outputId": "dfbfcefb-993a-4ead-d07e-a1aa58f79234"
      },
      "execution_count": 17,
      "outputs": [
        {
          "output_type": "execute_result",
          "data": {
            "text/plain": [
              "'a  hindrance to operations   extracts from the leaked reports scorecard hughes  instant hit buoys blues jack gets his skates on at ice cold alex chaos as maracana builds up for united depleted leicester prevail as elliott spoils everton s party hungry spurs sense rich pickings gunners so wide of an easy target derby raise a glass to strupar s debut double southgate strikes  leeds pay the penalty hammers hand robson a youthful lesson saints party like it s      wear wolves have turned into lambs stump mike catches testy gough s taunt langer escapes to hit     flintoff injury piles on woe for england hunters threaten jospin with new battle of the somme kohl s successor drawn into scandal the difference between men and women sara denver  nurse turned solicitor diana s landmine crusade put tories in a panic yeltsin s resignation caught opposition flat footed russian roulette sold out recovering a title'"
            ],
            "application/vnd.google.colaboratory.intrinsic+json": {
              "type": "string"
            }
          },
          "metadata": {},
          "execution_count": 17
        }
      ]
    },
    {
      "cell_type": "code",
      "source": [
        "test_headlines[0]"
      ],
      "metadata": {
        "colab": {
          "base_uri": "https://localhost:8080/",
          "height": 178
        },
        "id": "ezBgXykMf8ev",
        "outputId": "09b3ff79-cbf2-4ec9-a55f-b3e581e63419"
      },
      "execution_count": 18,
      "outputs": [
        {
          "output_type": "execute_result",
          "data": {
            "text/plain": [
              "'most cases of cancer are the result of sheer bad luck rather than unhealthy lifestyles  diet or even inherited genes  new research suggests  random mutations that occur in dna when cells divide are responsible for two thirds of adult cancers across a wide range of tissues  iran dismissed united states efforts to fight islamic state as a ploy to advance u s  policies in the region   the reality is that the united states is not acting to eliminate daesh  they are not even interested in weakening daesh  they are only interested in managing it  poll  one in   germans would join anti muslim marches uk royal family s prince andrew named in us lawsuit over underage sex allegations some    asylum seekers refused to leave the bus when they arrived at their destination in rural northern sweden  demanding that they be taken back to malm or  some big city   pakistani boat blows self up after india navy chase  all four people on board the vessel from near the pakistani port city of karachi are believed to have been killed in the dramatic episode in the arabian sea on new year s eve  according to india s defence ministry  sweden hit by third mosque arson attack in a week     cars set alight during french new year salaries for top ceos rose twice as fast as average canadian since recession  study norway violated equal pay law  judge says  judge finds consulate employee was unjustly paid         less than her male counterpart imam wants radical recruiters of muslim youth in canada identified and dealt with saudi arabia beheaded    people in       the most in years  a living hell  for slaves on remote south korean islands   slavery thrives on this chain of rural islands off south korea s rugged southwest coast  nurtured by a long history of exploitation and the demands of trying to squeeze a living from the sea  worlds     richest get richer  adding    bn in      rental car stereos infringe copyright  music rights group says ukrainian minister threatens tv channel with closure for airing russian entertainers palestinian president mahmoud abbas has entered into his most serious confrontation yet with israel by signing onto the international criminal court  his decision on wednesday gives the court jurisdiction over crimes committed in palestinian lands  israeli security center publishes names of    killed terrorists  concealed by hamas  the year      was the deadliest year yet in syria s four year conflict  with over        killed a secret underground complex built by the nazis that may have been used for the development of wmds  including a nuclear bomb  has been uncovered in austria  restrictions on web freedom a major global issue in      austrian journalist erich mchel delivered a presentation in hamburg at the annual meeting of the chaos computer club on monday december     detailing the various locations where the us nsa has been actively collecting and processing electronic intelligence in vienna  thousands of ukraine nationalists march in kiev chinas new years resolution  no more harvesting executed prisoners organs authorities pull plug on russia s last politically independent tv station'"
            ],
            "application/vnd.google.colaboratory.intrinsic+json": {
              "type": "string"
            }
          },
          "metadata": {},
          "execution_count": 18
        }
      ]
    },
    {
      "cell_type": "code",
      "source": [
        "ps = PorterStemmer()\n",
        "stop_words = set(stopwords.words('english'))\n",
        "\n",
        "# Creating corpus of train dataset\n",
        "train_corpus = [\n",
        "    ' '.join(ps.stem(word) for word in headline.split() if word not in stop_words)\n",
        "    for headline in train_headlines\n",
        "]"
      ],
      "metadata": {
        "id": "Ihn2YPUgf_2x"
      },
      "execution_count": 19,
      "outputs": []
    },
    {
      "cell_type": "code",
      "source": [
        "# Reuse stemmer and stopwords set\n",
        "stop_words = set(stopwords.words('english'))\n",
        "\n",
        "# Creating corpus of test dataset\n",
        "test_corpus = [\n",
        "    ' '.join(ps.stem(word) for word in headline.split() if word not in stop_words)\n",
        "    for headline in test_headlines\n",
        "]"
      ],
      "metadata": {
        "id": "nSAj2fVdgb3w"
      },
      "execution_count": 20,
      "outputs": []
    },
    {
      "cell_type": "code",
      "source": [
        "train_corpus[0:10]"
      ],
      "metadata": {
        "colab": {
          "base_uri": "https://localhost:8080/"
        },
        "id": "RWfvLiwagcUB",
        "outputId": "e0f8f0f2-aedf-4276-ddc7-406516eed05e"
      },
      "execution_count": 21,
      "outputs": [
        {
          "output_type": "execute_result",
          "data": {
            "text/plain": [
              "['hindranc oper extract leak report scorecard hugh instant hit buoy blue jack get skate ice cold alex chao maracana build unit deplet leicest prevail elliott spoil everton parti hungri spur sens rich pick gunner wide easi target derbi rais glass strupar debut doubl southgat strike leed pay penalti hammer hand robson youth lesson saint parti like wear wolv turn lamb stump mike catch testi gough taunt langer escap hit flintoff injuri pile woe england hunter threaten jospin new battl somm kohl successor drawn scandal differ men women sara denver nurs turn solicitor diana landmin crusad put tori panic yeltsin resign caught opposit flat foot russian roulett sold recov titl',\n",
              " 'scorecard best lake scene leader german sleaz inquiri cheerio boyo main recommend cubi kill fee cubi kill fee cubi kill fee hopkin furiou foster lack hannib appetit cubi kill fee tale two tail say like like say elbow eye nippl task forc assess risk asteroid collis found last critic list time live dear doctor irish court halt ira man extradit northern ireland burundi peac initi fade rebel reject mandela mediat pe point way forward ecb campaign keep pressur nazi war crime suspect jane ratcliff yet thing know without movi millennium bug fail bite',\n",
              " 'coventri caught counter flo unit rival road rio thatcher issu defenc trial video polic help smith lay law everton tale trautmann bear two retel england rack pakistan retali call video walsh cullinan continu cape monopoli mcgrath put india miseri blair witch bandwagon roll pele turn heat ferguson parti divid kohl slush fund scandal manchest unit england women record south pole walk vasco da gama brazil south melbourn australia necaxa mexico real madrid spain raja casablanca morocco corinthian brazil toni pet project al nassr saudi arabia ideal holm show pinochet leav hospit test use link',\n",
              " 'pilgrim know progress thatcher face ban mcilroy call irish fight spirit leicest bin stadium blueprint unit brace mexican wave aunti back fashion even dress look bit tatti shoaib appeal goe top hussain hurt shambl lay blame earlier damag england decad disast reveng sweet jubil cronj choic profil former us nazi parti offic william pierc new evid show record war crime suspect investig rise supernerd written bodi putin admit yeltsin quit give head start bbc worst hit digit tv begin bite much pay christma glitch upend tabl chop line score goal scientif evid unreli defenc claim fusco win judici review extradit case rebel thwart russian advanc blair order shake fail nh lesson law hard heart',\n",
              " 'hitch horlock beckham unit surviv breast cancer screen alan parker guardian reader whinger hollywood beyond ash diamond whinger formid minor alan parker part two thuggeri toxin tie met face fresh attack race crime everton fan top racist leagu shame breast russia new boss extrem strang histori alway forev everywher udi want chloe lunett return cane complet agenda sleepi hollow greeneland blunkett outlin vision embattl dobson attack play pay later livingston doom dome north south divid aitken releas jail gone aloft',\n",
              " 'fifth round draw bbc unveil secret weapon rate war south melbourn second divis round european round third divis round welfar could claim killi tie caley thistl land celtic ferguson put brave face rio meltdown southgat strike form pre empt penalti second bite wolv scallywag chelsea look bench england miss trick centurion radio time england bat collaps faith futur youth helm goe unit stave inevit time warner aol merg keep wage global war desktop icon qwerti keyboard sec file low workplac bulli met equip solv murder tranmer tie replay rebel attack take toll russia met lent stop car lawrenc',\n",
              " 'man utd south melbourn north atlant drift could carri away old firm buoyant bbc show brazil final live tranmer given clear cup unit sit poorli doc queen park peril cloud hampden futur waugh hit shoaib repriev knight make case butcher place scoreboard bond enough star brosnan help peopl blake blast liverpool german parti leader took cash arm dealer children book week low go like write split vote may offer natwest takeov escap teach stayer sprinter lesson respect everyon know good school wrong give teacher applaus realis felt sick shock tender stung russian forc inspector warn pressur might lead offic take easi solv case repair jack hous',\n",
              " 'newcastl seek new footbal supremo liverpool aim speed heskey deal highland vote edward power play suffer new blow chelsea gambl weah taylor settl etern tie tenth top flight club fall hodg final word charlton charg top german parti chief resist call resign beach made man leo pariah irv sue holocaust author jack straw full common speech batti busi book frock conscious matter heroin wear arm pakistan like mind co black megabuck luck cabinet battl rage ethic foreign polici radio station becom talk sport better breed dad childish thing kid say hopscotch smoke without fire press reaction spain chile argentina',\n",
              " 'bungl offici carpet red raw corner killer mackenzi unit put shirt england plan home nation reviv donald pois quit test scene adam stare abyss money money money tyson enter britain ga chamber claim imposs say irv union take mayor vote row court win ticket end affair irv deni deliber portray hitler merci gallant fulham flunk shoot hill start leav tranmer one step wembley weah strike right cue dinner plate microwav oven toast one simultan free yet live fear doubt pakistan arm export anoth fine mess cybershop sportswear much pay hillari hold late show bye bye american pi tension mount straw stand trial plan harrod lose princ philip royal warrant',\n",
              " 'pompey plump puli work ethic roma fire rolex refere prenton park two told take break ok figur rio still chelsea tune weah world top storey await cottag west indi unveil fieri next gener donald kill field await edgi england cronj low run end captainci high counti lose murali shoaib final tell tale two citi tv rival jostl soccer club stake blatter unit gave boost world cup bid sunderland recoveri bad news booki england main fault tri hard schreiber man would toppl king joe ashton letter resign ashton resign wednesday board stravinski rake progress best waterfront scene incompet insult injuri find time england take six rain shorten first day media sale net chri evan divvi scissor dawn']"
            ]
          },
          "metadata": {},
          "execution_count": 21
        }
      ]
    },
    {
      "cell_type": "code",
      "source": [
        "test_corpus[0:10]"
      ],
      "metadata": {
        "colab": {
          "base_uri": "https://localhost:8080/"
        },
        "id": "mccWGTrOgkhp",
        "outputId": "85806f5d-c03f-443a-8141-2649ded1d7f8"
      },
      "execution_count": 22,
      "outputs": [
        {
          "output_type": "execute_result",
          "data": {
            "text/plain": [
              "['case cancer result sheer bad luck rather unhealthi lifestyl diet even inherit gene new research suggest random mutat occur dna cell divid respons two third adult cancer across wide rang tissu iran dismiss unit state effort fight islam state ploy advanc u polici region realiti unit state act elimin daesh even interest weaken daesh interest manag poll one german would join anti muslim march uk royal famili princ andrew name us lawsuit underag sex alleg asylum seeker refus leav bu arriv destin rural northern sweden demand taken back malm big citi pakistani boat blow self india navi chase four peopl board vessel near pakistani port citi karachi believ kill dramat episod arabian sea new year eve accord india defenc ministri sweden hit third mosqu arson attack week car set alight french new year salari top ceo rose twice fast averag canadian sinc recess studi norway violat equal pay law judg say judg find consul employe unjustli paid less male counterpart imam want radic recruit muslim youth canada identifi dealt saudi arabia behead peopl year live hell slave remot south korean island slaveri thrive chain rural island south korea rug southwest coast nurtur long histori exploit demand tri squeez live sea world richest get richer ad bn rental car stereo infring copyright music right group say ukrainian minist threaten tv channel closur air russian entertain palestinian presid mahmoud abba enter seriou confront yet israel sign onto intern crimin court decis wednesday give court jurisdict crime commit palestinian land isra secur center publish name kill terrorist conceal hama year deadliest year yet syria four year conflict kill secret underground complex built nazi may use develop wmd includ nuclear bomb uncov austria restrict web freedom major global issu austrian journalist erich mchel deliv present hamburg annual meet chao comput club monday decemb detail variou locat us nsa activ collect process electron intellig vienna thousand ukrain nationalist march kiev china new year resolut harvest execut prison organ author pull plug russia last polit independ tv station',\n",
              " 'moscow gt beij high speed train reduc trip time hour current day two ancient tomb discov egypt sunday one repres symbol burial site god osiri anoth claim previous unknown pharaon tomb china complain pyongyang n korean soldier kill villag world news scotland head toward fossil fuel free renew energi project combin energi save could decarbonis countri power sector need see phase convent gener scotland prime minist shinzo abe said monday express remors japan action world war ii highlight countri bid contribut activ world peac statement mark th anniversari war end august sex slave centr princ andrew scandal fled australia teen gay rel hama founder face deport canada christian convert whose five uncl jail israel terror activ say hell kill forc return west bank number femal drug addict iran almost doubl sinc start age decad search causeway great pyramid egypt found india lost tiger lizard squad hack soni huge market scheme launch lizard stresser paid hack servic russia may face chao extra sanction impos germani saudi air land forc carri attack isi within territori isil reportedli set bank attempt legitimatis nation state israel brand anti assimil group lehava terrorist islam state approv budget billion expect surplu million open islam bank mosul budget reportedli includ monthli wage poor disabl famili individu kill airstrik carri us led coalit forc iceland withdraw eu applic lift capit control blackfield capit founder goe miss valu rubl thing vanish russia moscow hedg fund chief execut disappear along money firm account rocket stage crash back earth rural chines villag dead aircraft bomb greek tanker libyan port belgian murder frank van den bleeken die request belgian murder rapist serv life sentenc allow die lethal inject next sunday follow rule law belgium permit peopl request euthanasia czech presid critic ukrainian pm say yatsenyuk prime minist war vietnames jet join search miss filipino bahamian cargo ship sink franc seek end russia sanction ukrain china scrap rare earth cap',\n",
              " 'us oil fall barrel toyota give away fuel cell patent build game chang car futur young indian coupl grant polic protect rel approv hack death offic refus carri judg order senior figur islam state self declar polic forc syria carri behead found decapit eastern provinc deir al zor fukushima rice pass radiat test st time sinc disast nearli spanish parti guilti financi crime audit court find king abdullah abdic saudi throne taliban command caught network linkedin mexican miss student mayor wife charg organ crime money launder new york time report jame risen refus monday answer basic question court book detail fail cia effort undermin iran nuclear weapon program case becom flashpoint press freedom korea send sweet potato n korea nutrit aid turkey dutch journalist frederik geerdink detain terror propaganda charg kuala lumpur jan islam prohibit marri men homemak famili govern malaysian institut islam understand ikim said iraqi mp iran top gener qassem suleimani save baghdad fall pakistan offer bounti taliban leader thousand indian fled home fight india pakistan spread along km mile stretch border disput region kashmir turkey sack judg oversaw erdogan corrupt probe accus abus author spacex falcon launch recoveri abort next launch window could earli friday cnn american charg botch gambia coup islam state polic offici behead libya ban palestinian countri prevent entri terrorist judici inquiri open franc monday inmat one countri notori prison abl take photo pose drug money contraband upload onto facebook video captur moment cameraman hurl backward film explod firework factori small town colombia syria complain unit nation u republican senat john mccain former french foreign minist bernard kouchner former u diplomat peter galbraith enter countri without visa violat sovereignti test india set make iri biggest telescop ever',\n",
              " 'shot fire french magazin hq bibi netanyahu campaign fund u isi behead street magician entertain crowd syria trick denmark set new world record renew energi product cover countri total electr consumpt wind power isi close school syria leav children without educ un european union want turkey explain human traffick could taken two cargo ship fill migrant countri toward eu without author notic peopl die shoot headquart french satir weekli charli hebdo earth like planet ever discov could cosi home alien life planet name kepler b slightli larger earth circl orang dwarf star bath heat home planet receiv sun new question rais u saudi relationship page u legisl push know alleg saudi role massiv hunt underway gunmen pari terror attack offici hottest year record hottest year record come chines author isol separ famili shanghai stamped victim keep organ allow minut mourn site drag away get emot german anti muslim protest ralli despit merkel plea china encourag environment group sue pollut group work fight pollut judici gain special statu court fee reduc suprem peopl court say unit nation secretari gener ban ki moon say palestin join intern crimin court april st discoveri witnesss mutil bodi feed claim state kill kenya gruesom murder man due testifi icc trial kenya deputi presid william ruto fed accus govern orchestr kill wit radic islam grow threat sub saharan christian report toni blair may face war crime charg iraq delay public chilcot inquiri iraq war made peopl believ toni blair could face war crime charg minist warn benjamin netanyahu say settlement unlik dismantl elect israel pm tasmania move allow corpor sue protest defam indonesia search chief tail section airasia flight qz found flight record insid tail section north korean defector bureau hacker locat shenyang china femal suicid bomber attack polic station istanbul turn syria school religi indoctrin center children depriv educ islam state order school close school reopen curriculum islamic religion replac standard subject ebola vaccin trial halifax far success',\n",
              " 'new charli hebdo issu come next week hard suffer grief fear anyway stupid win ahm merabet cop kill pari attack muslim youngest suspect charli hebdo attack turn grenad thrown mosqu le man west pari danish newspap print charli hebdo cartoon islam muslim politician india offer charli hebdo attack vladimir putin condemn deadli terrorist attack pari confirm moscow readi continu cooper franc battl terror putin also express condol victim famili wish injur speedi recoveri turkey tri hide evid hold turkish leader respons support terrorist group especi islam state iraq syria isi turkish media report danish paper publish muhammad cartoon boost secur two charli hebdo attack locat north franc french imam urg muslim protest pari attack policewoman shot gunman near pari die polic shoot heard outskirt pari offic sever injur nobodi report kill fight syria wednesday first day without casualti three year fierc winter storm quell violenc time crack islamophobia turkey erdogan tell eu thousand europ hold pen solidar terrorist attack journalist race show solidar charli hebdo terror attack antibiot us discoveri label game changer world medicin charli hebdo attack condemn saudi arabia iran arab leagu mani muslim state well union islam organ franc brisban man wear stupid shirt stand lnp elect campaign arrest offic public nuisanc fourth russian gener commit suicid less year bear startl similar least three recent case retir russian gener commit suicid last year meteorit turn night day bucharest romania isra doctor implant syrian man titanium jaw pioneer procedur unusu metal recov ancient greek shipwreck ingot found yr old wreck metal call orichalcum legendari metal philosoph plato attribut atlanti noth similar ever found knew orichalcum ancient text amp ornament object young mother let terrorist charli hebdo build threat daughter',\n",
              " 'muslim politician india offer charli hebdo attack book incit violenc russia list transsexu transgend peopl among longer qualifi drive licenc french govern donat million ensur charli hebdo live hezbollah secretari gener sayi hassan nasrallah action takfiri group like al qaeda islam state offend prophet mohammad charli hebdo cartoon mock charli hebdo hunt shot fire polic chase car possibl hostag taken islam state brag pari tomorrow britain america wake charli hebdo attack secularist group seek end canada blasphemi law saudi arabia flog man time insult religion facebook websit town near pari hack replac isi flag indian govern fire employe skip work year egypt presid call revolut islam uk religi divers ever time number peopl religion time high britain mi chief warn al qaeda syria plan mass attack west top iranian cleric condemn pari shoot strongli condemn terrorist attack franc believ islam allow kill innoc peopl pari syria iraq yemen paksitan afghanistan ayatollah seyi ahmad khatami said us send highest level deleg decad havana later month talk migrat normal relat countri decad cold war hostil israel recogn armenian genocid say ambassador bodi litter street boko haram attack baga north korea warn war disast us lift unreason sanction danish newspap say print prophet cartoon boko haram kill destroy villag borno two islamist newspap turkey drawn ire social media headlin justifi deadli attack french satir newspap head mi andrew parker call new power help fight islamist extrem warn danger imbal increas number terrorist plot uk drop capabl intellig servic snoop commun million flee ukrain close humanitarian catastroph german nurs admit kill patient work hospit german citi delmenhorst investig possibl kill anoth china tomb chariot hors skeleton date back year found hubei',\n",
              " 'world largest indoor farm japan time product outdoor field use less water less power creat less food wast egypt student get year jail term atheism egyptian court sentenc student three year jail announc facebook atheist insult islam saudi princ barrel oil never boko haram massacr big survivor give count bodi bomb threat belgian paper reprint charli hebdo cartoon benjamin netanyahu ridicul appear pari attend pari march despit holland object least one major oil compani turn back fossil fuel say scientist oil compani also realis long moral defens ignor consequ climat chang nigeria need support franc boko haram attack archbishop kaigama speak anoth bloodi weekend nigeria three femal suicid bomber includ one thought young ten kill least peopl restiv northeast isi issu mandatori conscript men syria iraq oil hit new five half year low barrel peopl die drink poison beer mozambiqu turkish imam germani stand guard front media build solidar terror cuba freed prison agre u deal unpaid intern charg job refer thinktank anonym block jihadist websit retali charli hebdo attack burqua ban approv lawmak muslim uighur region xinjiang last month set go effect report say ban part effort curb grow extrem femal genit mutil done hospit africa health care provid perform percent fgm case trend grow accord world health organ feel free breastfe pope tell mother sistin chapel march pari yet block freedom speech home london landmark lit colour french flag crowd gather trafalgar squar tribut kill pari terror attack deadli taliban attack kill children peshawar pakistan armi public school reopen boko haram forc year old commit suicid bomb nigerian market franc deploy troop iran eclips us iraq alli fight milit lava flow iceland size manhattan',\n",
              " 'china ban burqa biggest muslim citi us eu politician use charli hebdo attack call internet surveil fusion muslim mayor rotterdam tell islamist f live televis charli hebdo first cover sinc attack nigeria need support franc boko haram attack kill archbishop uk may ban whatsapp snapchat new anti terror law british prime minist fox news secur analyst clearli complet idiot lesbian kick vienna caf kiss student organ start kiss campaign attend civilian dead shell hit bu ukrain cameron say mean commun cannot read russian media turkish politician suggest u isra involv pari attack us central command twitter youtub feed hack isi ultra orthodox jewish newspap edit femal world leader charli hebdo march expens cancer drug push england nh list chang england cancer drug fund mean april new cancer patient longer abl receiv number expens treatment avail nh david cameron want ban end end encrypt surveil plan nick clegg today condemn call reviv call snooper charter follow pari terror attack warn make safer make less free german anti islam march dresden draw record number scientist includ stephen hawk elon musk sign letter pledg ensur artifici intellig research benefit mankind great lake teem tini plastic microfib cbc pope franci blame pari attack deviant form religion amid new worri may isi target peopl starv eastern ukrain humanitarian crisi unfold attack owner pari kosher market plan move israel anti islamist movement surfac switzerland interpol issu global want notic former ukrain presid viktor yanukovich number al qaeda want list sell french fri florida mall food court',\n",
              " 'cameroon armi kill boko haram fighter air franc hand copi charli hebdo flight turkish presid accus west behind charli hebdo attack deliber blame muslim french comedian dieudonn arrest apologist terror facebook post turkey main opposit parti chp call islam countri adopt secular order end root terror denounc last week deadli pari attack stress kill innoc peopl noth islam ride coattail accus intern commun ignor african woe come afrileak whistleblow websit dedic expos corrupt abus power across africa internet instrument mass net neutral key indian telecom minist marxist dalai lama say twitter facebook face closur turkey anonym account publish document reveal illeg arm shipment turkish spi agenc opposit group syria russia cut world return past would monstrou mistak prime minist dmitri medvedev said wednesday januari new isi video appear show child execut russian agent turkish polic raid daili newspap cumhuriyet search destroy possibl moham cartoon north korean walk across frozen river china commit murder charli hebdo print run rais copi franc sell poacher kill forest guard india kaziranga nation park peshmerga kill six islam state leader hour mass anim die off rise kill billion amp rais question huge die off diseas outbreak amp stressor happen often mass die off individu event kill least billion anim wipe popul destroy ton worth anim charli hebdo muhammad cover goe global despit muslim ire egypt islam author denounc charli hebdo cover action unjustifi provoc feel billion muslim mosqu fire bomb pelt pig head aftermath pari terror attack oil price per barrel cost russian budget billion doubl agent reportedli stole list contain real undercov name german intellig employe spi arrest last juli suspicion work cia stolen document could jeopard half agent bnd russian troop station near finnish border putin begin move arctic kim jong un snub china accept putin invit moscow belgian arm dealer confess suppli pari attack fossil found p e boy fill gap reptil evolut',\n",
              " 'saudi man sentenc year jail weekli public cane month guilti set public onlin forum debat discuss children cage keep street clean pope polic round orphan chain filth pontiff visit philippin pari shoot sign petit muslim hero hid hostag get french citizenship prestigi legion honneur indonesia revok passport citizen join isi malian describ hero help hostag jewish supermarket hide last week pari attack award french nation tuesday interior minist bernard cazeneuv said swiss franc jump euro snb swiss nation bank scrap exchang rate limit franc send aircraft carrier battl saudi arabia build mile great wall shield isi data privaci human right say eu electron commun secur europ less accord report european union agenc network inform secur enisa baghdadi execut isil member defeat southern erbil kurd gay italian cook forc go prostitut prove heterosexu lose job charli hebdo writer hold muham cover sky news network cut away apolog hama new charli hedbo cover zionist lobbi plot indian rule parti support decrimin homosexu jesuischarli creator phrase cannot trademark million declar je sui charli social media peopl tri trademark imag franc alon creator campaign angri solar grid pariti world collaps oil price littl slow solar juggernaut intern space station crew evacu russian segment amid ammonia leak fear pari motorist deliber run policewoman outsid presidenti resid muslim philippin march charli hebdo charli hebdo sell alreadi ebay k target canada close store file creditor protect nasrallah hezbollah prepar war deep israel beyond galile carlo slim mexican billionair becom top new york time sharehold ottawa mosqu concern sharp rise young men convert islam nigeria satellit imag show horrif scale boko haram attack baga']"
            ]
          },
          "metadata": {},
          "execution_count": 22
        }
      ]
    },
    {
      "cell_type": "code",
      "source": [
        "from sklearn.feature_extraction.text import CountVectorizer\n",
        "cv = CountVectorizer(max_features=10000, ngram_range=(2,2))\n",
        "X_train = cv.fit_transform(train_corpus).toarray()\n",
        "X_test = cv.transform(test_corpus).toarray()"
      ],
      "metadata": {
        "id": "tws4VDsWhh1w"
      },
      "execution_count": 28,
      "outputs": []
    },
    {
      "cell_type": "markdown",
      "source": [
        "# LOGISTIC REGRESSION"
      ],
      "metadata": {
        "id": "yUtUfyyliHlz"
      }
    },
    {
      "cell_type": "code",
      "source": [
        "from sklearn.linear_model import LogisticRegression\n",
        "lr_classifier = LogisticRegression()\n",
        "lr_classifier.fit(X_train, y_train)"
      ],
      "metadata": {
        "colab": {
          "base_uri": "https://localhost:8080/",
          "height": 80
        },
        "id": "KB0UR-W6g-dM",
        "outputId": "03a063bf-59b7-4af0-b671-5a67fc0c8dbf"
      },
      "execution_count": 29,
      "outputs": [
        {
          "output_type": "execute_result",
          "data": {
            "text/plain": [
              "LogisticRegression()"
            ],
            "text/html": [
              "<style>#sk-container-id-1 {\n",
              "  /* Definition of color scheme common for light and dark mode */\n",
              "  --sklearn-color-text: #000;\n",
              "  --sklearn-color-text-muted: #666;\n",
              "  --sklearn-color-line: gray;\n",
              "  /* Definition of color scheme for unfitted estimators */\n",
              "  --sklearn-color-unfitted-level-0: #fff5e6;\n",
              "  --sklearn-color-unfitted-level-1: #f6e4d2;\n",
              "  --sklearn-color-unfitted-level-2: #ffe0b3;\n",
              "  --sklearn-color-unfitted-level-3: chocolate;\n",
              "  /* Definition of color scheme for fitted estimators */\n",
              "  --sklearn-color-fitted-level-0: #f0f8ff;\n",
              "  --sklearn-color-fitted-level-1: #d4ebff;\n",
              "  --sklearn-color-fitted-level-2: #b3dbfd;\n",
              "  --sklearn-color-fitted-level-3: cornflowerblue;\n",
              "\n",
              "  /* Specific color for light theme */\n",
              "  --sklearn-color-text-on-default-background: var(--sg-text-color, var(--theme-code-foreground, var(--jp-content-font-color1, black)));\n",
              "  --sklearn-color-background: var(--sg-background-color, var(--theme-background, var(--jp-layout-color0, white)));\n",
              "  --sklearn-color-border-box: var(--sg-text-color, var(--theme-code-foreground, var(--jp-content-font-color1, black)));\n",
              "  --sklearn-color-icon: #696969;\n",
              "\n",
              "  @media (prefers-color-scheme: dark) {\n",
              "    /* Redefinition of color scheme for dark theme */\n",
              "    --sklearn-color-text-on-default-background: var(--sg-text-color, var(--theme-code-foreground, var(--jp-content-font-color1, white)));\n",
              "    --sklearn-color-background: var(--sg-background-color, var(--theme-background, var(--jp-layout-color0, #111)));\n",
              "    --sklearn-color-border-box: var(--sg-text-color, var(--theme-code-foreground, var(--jp-content-font-color1, white)));\n",
              "    --sklearn-color-icon: #878787;\n",
              "  }\n",
              "}\n",
              "\n",
              "#sk-container-id-1 {\n",
              "  color: var(--sklearn-color-text);\n",
              "}\n",
              "\n",
              "#sk-container-id-1 pre {\n",
              "  padding: 0;\n",
              "}\n",
              "\n",
              "#sk-container-id-1 input.sk-hidden--visually {\n",
              "  border: 0;\n",
              "  clip: rect(1px 1px 1px 1px);\n",
              "  clip: rect(1px, 1px, 1px, 1px);\n",
              "  height: 1px;\n",
              "  margin: -1px;\n",
              "  overflow: hidden;\n",
              "  padding: 0;\n",
              "  position: absolute;\n",
              "  width: 1px;\n",
              "}\n",
              "\n",
              "#sk-container-id-1 div.sk-dashed-wrapped {\n",
              "  border: 1px dashed var(--sklearn-color-line);\n",
              "  margin: 0 0.4em 0.5em 0.4em;\n",
              "  box-sizing: border-box;\n",
              "  padding-bottom: 0.4em;\n",
              "  background-color: var(--sklearn-color-background);\n",
              "}\n",
              "\n",
              "#sk-container-id-1 div.sk-container {\n",
              "  /* jupyter's `normalize.less` sets `[hidden] { display: none; }`\n",
              "     but bootstrap.min.css set `[hidden] { display: none !important; }`\n",
              "     so we also need the `!important` here to be able to override the\n",
              "     default hidden behavior on the sphinx rendered scikit-learn.org.\n",
              "     See: https://github.com/scikit-learn/scikit-learn/issues/21755 */\n",
              "  display: inline-block !important;\n",
              "  position: relative;\n",
              "}\n",
              "\n",
              "#sk-container-id-1 div.sk-text-repr-fallback {\n",
              "  display: none;\n",
              "}\n",
              "\n",
              "div.sk-parallel-item,\n",
              "div.sk-serial,\n",
              "div.sk-item {\n",
              "  /* draw centered vertical line to link estimators */\n",
              "  background-image: linear-gradient(var(--sklearn-color-text-on-default-background), var(--sklearn-color-text-on-default-background));\n",
              "  background-size: 2px 100%;\n",
              "  background-repeat: no-repeat;\n",
              "  background-position: center center;\n",
              "}\n",
              "\n",
              "/* Parallel-specific style estimator block */\n",
              "\n",
              "#sk-container-id-1 div.sk-parallel-item::after {\n",
              "  content: \"\";\n",
              "  width: 100%;\n",
              "  border-bottom: 2px solid var(--sklearn-color-text-on-default-background);\n",
              "  flex-grow: 1;\n",
              "}\n",
              "\n",
              "#sk-container-id-1 div.sk-parallel {\n",
              "  display: flex;\n",
              "  align-items: stretch;\n",
              "  justify-content: center;\n",
              "  background-color: var(--sklearn-color-background);\n",
              "  position: relative;\n",
              "}\n",
              "\n",
              "#sk-container-id-1 div.sk-parallel-item {\n",
              "  display: flex;\n",
              "  flex-direction: column;\n",
              "}\n",
              "\n",
              "#sk-container-id-1 div.sk-parallel-item:first-child::after {\n",
              "  align-self: flex-end;\n",
              "  width: 50%;\n",
              "}\n",
              "\n",
              "#sk-container-id-1 div.sk-parallel-item:last-child::after {\n",
              "  align-self: flex-start;\n",
              "  width: 50%;\n",
              "}\n",
              "\n",
              "#sk-container-id-1 div.sk-parallel-item:only-child::after {\n",
              "  width: 0;\n",
              "}\n",
              "\n",
              "/* Serial-specific style estimator block */\n",
              "\n",
              "#sk-container-id-1 div.sk-serial {\n",
              "  display: flex;\n",
              "  flex-direction: column;\n",
              "  align-items: center;\n",
              "  background-color: var(--sklearn-color-background);\n",
              "  padding-right: 1em;\n",
              "  padding-left: 1em;\n",
              "}\n",
              "\n",
              "\n",
              "/* Toggleable style: style used for estimator/Pipeline/ColumnTransformer box that is\n",
              "clickable and can be expanded/collapsed.\n",
              "- Pipeline and ColumnTransformer use this feature and define the default style\n",
              "- Estimators will overwrite some part of the style using the `sk-estimator` class\n",
              "*/\n",
              "\n",
              "/* Pipeline and ColumnTransformer style (default) */\n",
              "\n",
              "#sk-container-id-1 div.sk-toggleable {\n",
              "  /* Default theme specific background. It is overwritten whether we have a\n",
              "  specific estimator or a Pipeline/ColumnTransformer */\n",
              "  background-color: var(--sklearn-color-background);\n",
              "}\n",
              "\n",
              "/* Toggleable label */\n",
              "#sk-container-id-1 label.sk-toggleable__label {\n",
              "  cursor: pointer;\n",
              "  display: flex;\n",
              "  width: 100%;\n",
              "  margin-bottom: 0;\n",
              "  padding: 0.5em;\n",
              "  box-sizing: border-box;\n",
              "  text-align: center;\n",
              "  align-items: start;\n",
              "  justify-content: space-between;\n",
              "  gap: 0.5em;\n",
              "}\n",
              "\n",
              "#sk-container-id-1 label.sk-toggleable__label .caption {\n",
              "  font-size: 0.6rem;\n",
              "  font-weight: lighter;\n",
              "  color: var(--sklearn-color-text-muted);\n",
              "}\n",
              "\n",
              "#sk-container-id-1 label.sk-toggleable__label-arrow:before {\n",
              "  /* Arrow on the left of the label */\n",
              "  content: \"▸\";\n",
              "  float: left;\n",
              "  margin-right: 0.25em;\n",
              "  color: var(--sklearn-color-icon);\n",
              "}\n",
              "\n",
              "#sk-container-id-1 label.sk-toggleable__label-arrow:hover:before {\n",
              "  color: var(--sklearn-color-text);\n",
              "}\n",
              "\n",
              "/* Toggleable content - dropdown */\n",
              "\n",
              "#sk-container-id-1 div.sk-toggleable__content {\n",
              "  max-height: 0;\n",
              "  max-width: 0;\n",
              "  overflow: hidden;\n",
              "  text-align: left;\n",
              "  /* unfitted */\n",
              "  background-color: var(--sklearn-color-unfitted-level-0);\n",
              "}\n",
              "\n",
              "#sk-container-id-1 div.sk-toggleable__content.fitted {\n",
              "  /* fitted */\n",
              "  background-color: var(--sklearn-color-fitted-level-0);\n",
              "}\n",
              "\n",
              "#sk-container-id-1 div.sk-toggleable__content pre {\n",
              "  margin: 0.2em;\n",
              "  border-radius: 0.25em;\n",
              "  color: var(--sklearn-color-text);\n",
              "  /* unfitted */\n",
              "  background-color: var(--sklearn-color-unfitted-level-0);\n",
              "}\n",
              "\n",
              "#sk-container-id-1 div.sk-toggleable__content.fitted pre {\n",
              "  /* unfitted */\n",
              "  background-color: var(--sklearn-color-fitted-level-0);\n",
              "}\n",
              "\n",
              "#sk-container-id-1 input.sk-toggleable__control:checked~div.sk-toggleable__content {\n",
              "  /* Expand drop-down */\n",
              "  max-height: 200px;\n",
              "  max-width: 100%;\n",
              "  overflow: auto;\n",
              "}\n",
              "\n",
              "#sk-container-id-1 input.sk-toggleable__control:checked~label.sk-toggleable__label-arrow:before {\n",
              "  content: \"▾\";\n",
              "}\n",
              "\n",
              "/* Pipeline/ColumnTransformer-specific style */\n",
              "\n",
              "#sk-container-id-1 div.sk-label input.sk-toggleable__control:checked~label.sk-toggleable__label {\n",
              "  color: var(--sklearn-color-text);\n",
              "  background-color: var(--sklearn-color-unfitted-level-2);\n",
              "}\n",
              "\n",
              "#sk-container-id-1 div.sk-label.fitted input.sk-toggleable__control:checked~label.sk-toggleable__label {\n",
              "  background-color: var(--sklearn-color-fitted-level-2);\n",
              "}\n",
              "\n",
              "/* Estimator-specific style */\n",
              "\n",
              "/* Colorize estimator box */\n",
              "#sk-container-id-1 div.sk-estimator input.sk-toggleable__control:checked~label.sk-toggleable__label {\n",
              "  /* unfitted */\n",
              "  background-color: var(--sklearn-color-unfitted-level-2);\n",
              "}\n",
              "\n",
              "#sk-container-id-1 div.sk-estimator.fitted input.sk-toggleable__control:checked~label.sk-toggleable__label {\n",
              "  /* fitted */\n",
              "  background-color: var(--sklearn-color-fitted-level-2);\n",
              "}\n",
              "\n",
              "#sk-container-id-1 div.sk-label label.sk-toggleable__label,\n",
              "#sk-container-id-1 div.sk-label label {\n",
              "  /* The background is the default theme color */\n",
              "  color: var(--sklearn-color-text-on-default-background);\n",
              "}\n",
              "\n",
              "/* On hover, darken the color of the background */\n",
              "#sk-container-id-1 div.sk-label:hover label.sk-toggleable__label {\n",
              "  color: var(--sklearn-color-text);\n",
              "  background-color: var(--sklearn-color-unfitted-level-2);\n",
              "}\n",
              "\n",
              "/* Label box, darken color on hover, fitted */\n",
              "#sk-container-id-1 div.sk-label.fitted:hover label.sk-toggleable__label.fitted {\n",
              "  color: var(--sklearn-color-text);\n",
              "  background-color: var(--sklearn-color-fitted-level-2);\n",
              "}\n",
              "\n",
              "/* Estimator label */\n",
              "\n",
              "#sk-container-id-1 div.sk-label label {\n",
              "  font-family: monospace;\n",
              "  font-weight: bold;\n",
              "  display: inline-block;\n",
              "  line-height: 1.2em;\n",
              "}\n",
              "\n",
              "#sk-container-id-1 div.sk-label-container {\n",
              "  text-align: center;\n",
              "}\n",
              "\n",
              "/* Estimator-specific */\n",
              "#sk-container-id-1 div.sk-estimator {\n",
              "  font-family: monospace;\n",
              "  border: 1px dotted var(--sklearn-color-border-box);\n",
              "  border-radius: 0.25em;\n",
              "  box-sizing: border-box;\n",
              "  margin-bottom: 0.5em;\n",
              "  /* unfitted */\n",
              "  background-color: var(--sklearn-color-unfitted-level-0);\n",
              "}\n",
              "\n",
              "#sk-container-id-1 div.sk-estimator.fitted {\n",
              "  /* fitted */\n",
              "  background-color: var(--sklearn-color-fitted-level-0);\n",
              "}\n",
              "\n",
              "/* on hover */\n",
              "#sk-container-id-1 div.sk-estimator:hover {\n",
              "  /* unfitted */\n",
              "  background-color: var(--sklearn-color-unfitted-level-2);\n",
              "}\n",
              "\n",
              "#sk-container-id-1 div.sk-estimator.fitted:hover {\n",
              "  /* fitted */\n",
              "  background-color: var(--sklearn-color-fitted-level-2);\n",
              "}\n",
              "\n",
              "/* Specification for estimator info (e.g. \"i\" and \"?\") */\n",
              "\n",
              "/* Common style for \"i\" and \"?\" */\n",
              "\n",
              ".sk-estimator-doc-link,\n",
              "a:link.sk-estimator-doc-link,\n",
              "a:visited.sk-estimator-doc-link {\n",
              "  float: right;\n",
              "  font-size: smaller;\n",
              "  line-height: 1em;\n",
              "  font-family: monospace;\n",
              "  background-color: var(--sklearn-color-background);\n",
              "  border-radius: 1em;\n",
              "  height: 1em;\n",
              "  width: 1em;\n",
              "  text-decoration: none !important;\n",
              "  margin-left: 0.5em;\n",
              "  text-align: center;\n",
              "  /* unfitted */\n",
              "  border: var(--sklearn-color-unfitted-level-1) 1pt solid;\n",
              "  color: var(--sklearn-color-unfitted-level-1);\n",
              "}\n",
              "\n",
              ".sk-estimator-doc-link.fitted,\n",
              "a:link.sk-estimator-doc-link.fitted,\n",
              "a:visited.sk-estimator-doc-link.fitted {\n",
              "  /* fitted */\n",
              "  border: var(--sklearn-color-fitted-level-1) 1pt solid;\n",
              "  color: var(--sklearn-color-fitted-level-1);\n",
              "}\n",
              "\n",
              "/* On hover */\n",
              "div.sk-estimator:hover .sk-estimator-doc-link:hover,\n",
              ".sk-estimator-doc-link:hover,\n",
              "div.sk-label-container:hover .sk-estimator-doc-link:hover,\n",
              ".sk-estimator-doc-link:hover {\n",
              "  /* unfitted */\n",
              "  background-color: var(--sklearn-color-unfitted-level-3);\n",
              "  color: var(--sklearn-color-background);\n",
              "  text-decoration: none;\n",
              "}\n",
              "\n",
              "div.sk-estimator.fitted:hover .sk-estimator-doc-link.fitted:hover,\n",
              ".sk-estimator-doc-link.fitted:hover,\n",
              "div.sk-label-container:hover .sk-estimator-doc-link.fitted:hover,\n",
              ".sk-estimator-doc-link.fitted:hover {\n",
              "  /* fitted */\n",
              "  background-color: var(--sklearn-color-fitted-level-3);\n",
              "  color: var(--sklearn-color-background);\n",
              "  text-decoration: none;\n",
              "}\n",
              "\n",
              "/* Span, style for the box shown on hovering the info icon */\n",
              ".sk-estimator-doc-link span {\n",
              "  display: none;\n",
              "  z-index: 9999;\n",
              "  position: relative;\n",
              "  font-weight: normal;\n",
              "  right: .2ex;\n",
              "  padding: .5ex;\n",
              "  margin: .5ex;\n",
              "  width: min-content;\n",
              "  min-width: 20ex;\n",
              "  max-width: 50ex;\n",
              "  color: var(--sklearn-color-text);\n",
              "  box-shadow: 2pt 2pt 4pt #999;\n",
              "  /* unfitted */\n",
              "  background: var(--sklearn-color-unfitted-level-0);\n",
              "  border: .5pt solid var(--sklearn-color-unfitted-level-3);\n",
              "}\n",
              "\n",
              ".sk-estimator-doc-link.fitted span {\n",
              "  /* fitted */\n",
              "  background: var(--sklearn-color-fitted-level-0);\n",
              "  border: var(--sklearn-color-fitted-level-3);\n",
              "}\n",
              "\n",
              ".sk-estimator-doc-link:hover span {\n",
              "  display: block;\n",
              "}\n",
              "\n",
              "/* \"?\"-specific style due to the `<a>` HTML tag */\n",
              "\n",
              "#sk-container-id-1 a.estimator_doc_link {\n",
              "  float: right;\n",
              "  font-size: 1rem;\n",
              "  line-height: 1em;\n",
              "  font-family: monospace;\n",
              "  background-color: var(--sklearn-color-background);\n",
              "  border-radius: 1rem;\n",
              "  height: 1rem;\n",
              "  width: 1rem;\n",
              "  text-decoration: none;\n",
              "  /* unfitted */\n",
              "  color: var(--sklearn-color-unfitted-level-1);\n",
              "  border: var(--sklearn-color-unfitted-level-1) 1pt solid;\n",
              "}\n",
              "\n",
              "#sk-container-id-1 a.estimator_doc_link.fitted {\n",
              "  /* fitted */\n",
              "  border: var(--sklearn-color-fitted-level-1) 1pt solid;\n",
              "  color: var(--sklearn-color-fitted-level-1);\n",
              "}\n",
              "\n",
              "/* On hover */\n",
              "#sk-container-id-1 a.estimator_doc_link:hover {\n",
              "  /* unfitted */\n",
              "  background-color: var(--sklearn-color-unfitted-level-3);\n",
              "  color: var(--sklearn-color-background);\n",
              "  text-decoration: none;\n",
              "}\n",
              "\n",
              "#sk-container-id-1 a.estimator_doc_link.fitted:hover {\n",
              "  /* fitted */\n",
              "  background-color: var(--sklearn-color-fitted-level-3);\n",
              "}\n",
              "</style><div id=\"sk-container-id-1\" class=\"sk-top-container\"><div class=\"sk-text-repr-fallback\"><pre>LogisticRegression()</pre><b>In a Jupyter environment, please rerun this cell to show the HTML representation or trust the notebook. <br />On GitHub, the HTML representation is unable to render, please try loading this page with nbviewer.org.</b></div><div class=\"sk-container\" hidden><div class=\"sk-item\"><div class=\"sk-estimator fitted sk-toggleable\"><input class=\"sk-toggleable__control sk-hidden--visually\" id=\"sk-estimator-id-1\" type=\"checkbox\" checked><label for=\"sk-estimator-id-1\" class=\"sk-toggleable__label fitted sk-toggleable__label-arrow\"><div><div>LogisticRegression</div></div><div><a class=\"sk-estimator-doc-link fitted\" rel=\"noreferrer\" target=\"_blank\" href=\"https://scikit-learn.org/1.6/modules/generated/sklearn.linear_model.LogisticRegression.html\">?<span>Documentation for LogisticRegression</span></a><span class=\"sk-estimator-doc-link fitted\">i<span>Fitted</span></span></div></label><div class=\"sk-toggleable__content fitted\"><pre>LogisticRegression()</pre></div> </div></div></div></div>"
            ]
          },
          "metadata": {},
          "execution_count": 29
        }
      ]
    },
    {
      "cell_type": "code",
      "source": [
        "lr_y_pred = lr_classifier.predict(X_test)"
      ],
      "metadata": {
        "id": "m0eX9IxYhvQc"
      },
      "execution_count": 30,
      "outputs": []
    },
    {
      "cell_type": "code",
      "source": [
        "from sklearn.metrics import accuracy_score, precision_score, recall_score\n",
        "score1 = accuracy_score(y_test, lr_y_pred)\n",
        "score2 = precision_score(y_test, lr_y_pred)\n",
        "score3 = recall_score(y_test, lr_y_pred)\n",
        "print(\"---- Scores ----\")\n",
        "print(\"Accuracy score is: {}%\".format(round(score1*100,2)))\n",
        "print(\"Precision score is: {}\".format(round(score2,2)))\n",
        "print(\"Recall score is: {}\".format(round(score3,2)))"
      ],
      "metadata": {
        "colab": {
          "base_uri": "https://localhost:8080/"
        },
        "id": "y2Eu4_j2h44L",
        "outputId": "2545f289-c151-41bc-dbc5-00bb6d5b40c8"
      },
      "execution_count": 31,
      "outputs": [
        {
          "output_type": "stream",
          "name": "stdout",
          "text": [
            "---- Scores ----\n",
            "Accuracy score is: 85.45%\n",
            "Precision score is: 0.86\n",
            "Recall score is: 0.85\n"
          ]
        }
      ]
    },
    {
      "cell_type": "markdown",
      "source": [
        "# RANDOM FOREST"
      ],
      "metadata": {
        "id": "TkoshXkKiV1W"
      }
    },
    {
      "cell_type": "code",
      "source": [
        "from sklearn.ensemble import RandomForestClassifier\n",
        "rf_classifier = RandomForestClassifier(n_estimators=100, criterion='entropy')\n",
        "rf_classifier.fit(X_train, y_train)\n"
      ],
      "metadata": {
        "colab": {
          "base_uri": "https://localhost:8080/",
          "height": 80
        },
        "id": "ZOj6TnFth8F5",
        "outputId": "5775987a-b54f-49e5-f12e-bbbf4c5c198a"
      },
      "execution_count": 32,
      "outputs": [
        {
          "output_type": "execute_result",
          "data": {
            "text/plain": [
              "RandomForestClassifier(criterion='entropy')"
            ],
            "text/html": [
              "<style>#sk-container-id-2 {\n",
              "  /* Definition of color scheme common for light and dark mode */\n",
              "  --sklearn-color-text: #000;\n",
              "  --sklearn-color-text-muted: #666;\n",
              "  --sklearn-color-line: gray;\n",
              "  /* Definition of color scheme for unfitted estimators */\n",
              "  --sklearn-color-unfitted-level-0: #fff5e6;\n",
              "  --sklearn-color-unfitted-level-1: #f6e4d2;\n",
              "  --sklearn-color-unfitted-level-2: #ffe0b3;\n",
              "  --sklearn-color-unfitted-level-3: chocolate;\n",
              "  /* Definition of color scheme for fitted estimators */\n",
              "  --sklearn-color-fitted-level-0: #f0f8ff;\n",
              "  --sklearn-color-fitted-level-1: #d4ebff;\n",
              "  --sklearn-color-fitted-level-2: #b3dbfd;\n",
              "  --sklearn-color-fitted-level-3: cornflowerblue;\n",
              "\n",
              "  /* Specific color for light theme */\n",
              "  --sklearn-color-text-on-default-background: var(--sg-text-color, var(--theme-code-foreground, var(--jp-content-font-color1, black)));\n",
              "  --sklearn-color-background: var(--sg-background-color, var(--theme-background, var(--jp-layout-color0, white)));\n",
              "  --sklearn-color-border-box: var(--sg-text-color, var(--theme-code-foreground, var(--jp-content-font-color1, black)));\n",
              "  --sklearn-color-icon: #696969;\n",
              "\n",
              "  @media (prefers-color-scheme: dark) {\n",
              "    /* Redefinition of color scheme for dark theme */\n",
              "    --sklearn-color-text-on-default-background: var(--sg-text-color, var(--theme-code-foreground, var(--jp-content-font-color1, white)));\n",
              "    --sklearn-color-background: var(--sg-background-color, var(--theme-background, var(--jp-layout-color0, #111)));\n",
              "    --sklearn-color-border-box: var(--sg-text-color, var(--theme-code-foreground, var(--jp-content-font-color1, white)));\n",
              "    --sklearn-color-icon: #878787;\n",
              "  }\n",
              "}\n",
              "\n",
              "#sk-container-id-2 {\n",
              "  color: var(--sklearn-color-text);\n",
              "}\n",
              "\n",
              "#sk-container-id-2 pre {\n",
              "  padding: 0;\n",
              "}\n",
              "\n",
              "#sk-container-id-2 input.sk-hidden--visually {\n",
              "  border: 0;\n",
              "  clip: rect(1px 1px 1px 1px);\n",
              "  clip: rect(1px, 1px, 1px, 1px);\n",
              "  height: 1px;\n",
              "  margin: -1px;\n",
              "  overflow: hidden;\n",
              "  padding: 0;\n",
              "  position: absolute;\n",
              "  width: 1px;\n",
              "}\n",
              "\n",
              "#sk-container-id-2 div.sk-dashed-wrapped {\n",
              "  border: 1px dashed var(--sklearn-color-line);\n",
              "  margin: 0 0.4em 0.5em 0.4em;\n",
              "  box-sizing: border-box;\n",
              "  padding-bottom: 0.4em;\n",
              "  background-color: var(--sklearn-color-background);\n",
              "}\n",
              "\n",
              "#sk-container-id-2 div.sk-container {\n",
              "  /* jupyter's `normalize.less` sets `[hidden] { display: none; }`\n",
              "     but bootstrap.min.css set `[hidden] { display: none !important; }`\n",
              "     so we also need the `!important` here to be able to override the\n",
              "     default hidden behavior on the sphinx rendered scikit-learn.org.\n",
              "     See: https://github.com/scikit-learn/scikit-learn/issues/21755 */\n",
              "  display: inline-block !important;\n",
              "  position: relative;\n",
              "}\n",
              "\n",
              "#sk-container-id-2 div.sk-text-repr-fallback {\n",
              "  display: none;\n",
              "}\n",
              "\n",
              "div.sk-parallel-item,\n",
              "div.sk-serial,\n",
              "div.sk-item {\n",
              "  /* draw centered vertical line to link estimators */\n",
              "  background-image: linear-gradient(var(--sklearn-color-text-on-default-background), var(--sklearn-color-text-on-default-background));\n",
              "  background-size: 2px 100%;\n",
              "  background-repeat: no-repeat;\n",
              "  background-position: center center;\n",
              "}\n",
              "\n",
              "/* Parallel-specific style estimator block */\n",
              "\n",
              "#sk-container-id-2 div.sk-parallel-item::after {\n",
              "  content: \"\";\n",
              "  width: 100%;\n",
              "  border-bottom: 2px solid var(--sklearn-color-text-on-default-background);\n",
              "  flex-grow: 1;\n",
              "}\n",
              "\n",
              "#sk-container-id-2 div.sk-parallel {\n",
              "  display: flex;\n",
              "  align-items: stretch;\n",
              "  justify-content: center;\n",
              "  background-color: var(--sklearn-color-background);\n",
              "  position: relative;\n",
              "}\n",
              "\n",
              "#sk-container-id-2 div.sk-parallel-item {\n",
              "  display: flex;\n",
              "  flex-direction: column;\n",
              "}\n",
              "\n",
              "#sk-container-id-2 div.sk-parallel-item:first-child::after {\n",
              "  align-self: flex-end;\n",
              "  width: 50%;\n",
              "}\n",
              "\n",
              "#sk-container-id-2 div.sk-parallel-item:last-child::after {\n",
              "  align-self: flex-start;\n",
              "  width: 50%;\n",
              "}\n",
              "\n",
              "#sk-container-id-2 div.sk-parallel-item:only-child::after {\n",
              "  width: 0;\n",
              "}\n",
              "\n",
              "/* Serial-specific style estimator block */\n",
              "\n",
              "#sk-container-id-2 div.sk-serial {\n",
              "  display: flex;\n",
              "  flex-direction: column;\n",
              "  align-items: center;\n",
              "  background-color: var(--sklearn-color-background);\n",
              "  padding-right: 1em;\n",
              "  padding-left: 1em;\n",
              "}\n",
              "\n",
              "\n",
              "/* Toggleable style: style used for estimator/Pipeline/ColumnTransformer box that is\n",
              "clickable and can be expanded/collapsed.\n",
              "- Pipeline and ColumnTransformer use this feature and define the default style\n",
              "- Estimators will overwrite some part of the style using the `sk-estimator` class\n",
              "*/\n",
              "\n",
              "/* Pipeline and ColumnTransformer style (default) */\n",
              "\n",
              "#sk-container-id-2 div.sk-toggleable {\n",
              "  /* Default theme specific background. It is overwritten whether we have a\n",
              "  specific estimator or a Pipeline/ColumnTransformer */\n",
              "  background-color: var(--sklearn-color-background);\n",
              "}\n",
              "\n",
              "/* Toggleable label */\n",
              "#sk-container-id-2 label.sk-toggleable__label {\n",
              "  cursor: pointer;\n",
              "  display: flex;\n",
              "  width: 100%;\n",
              "  margin-bottom: 0;\n",
              "  padding: 0.5em;\n",
              "  box-sizing: border-box;\n",
              "  text-align: center;\n",
              "  align-items: start;\n",
              "  justify-content: space-between;\n",
              "  gap: 0.5em;\n",
              "}\n",
              "\n",
              "#sk-container-id-2 label.sk-toggleable__label .caption {\n",
              "  font-size: 0.6rem;\n",
              "  font-weight: lighter;\n",
              "  color: var(--sklearn-color-text-muted);\n",
              "}\n",
              "\n",
              "#sk-container-id-2 label.sk-toggleable__label-arrow:before {\n",
              "  /* Arrow on the left of the label */\n",
              "  content: \"▸\";\n",
              "  float: left;\n",
              "  margin-right: 0.25em;\n",
              "  color: var(--sklearn-color-icon);\n",
              "}\n",
              "\n",
              "#sk-container-id-2 label.sk-toggleable__label-arrow:hover:before {\n",
              "  color: var(--sklearn-color-text);\n",
              "}\n",
              "\n",
              "/* Toggleable content - dropdown */\n",
              "\n",
              "#sk-container-id-2 div.sk-toggleable__content {\n",
              "  max-height: 0;\n",
              "  max-width: 0;\n",
              "  overflow: hidden;\n",
              "  text-align: left;\n",
              "  /* unfitted */\n",
              "  background-color: var(--sklearn-color-unfitted-level-0);\n",
              "}\n",
              "\n",
              "#sk-container-id-2 div.sk-toggleable__content.fitted {\n",
              "  /* fitted */\n",
              "  background-color: var(--sklearn-color-fitted-level-0);\n",
              "}\n",
              "\n",
              "#sk-container-id-2 div.sk-toggleable__content pre {\n",
              "  margin: 0.2em;\n",
              "  border-radius: 0.25em;\n",
              "  color: var(--sklearn-color-text);\n",
              "  /* unfitted */\n",
              "  background-color: var(--sklearn-color-unfitted-level-0);\n",
              "}\n",
              "\n",
              "#sk-container-id-2 div.sk-toggleable__content.fitted pre {\n",
              "  /* unfitted */\n",
              "  background-color: var(--sklearn-color-fitted-level-0);\n",
              "}\n",
              "\n",
              "#sk-container-id-2 input.sk-toggleable__control:checked~div.sk-toggleable__content {\n",
              "  /* Expand drop-down */\n",
              "  max-height: 200px;\n",
              "  max-width: 100%;\n",
              "  overflow: auto;\n",
              "}\n",
              "\n",
              "#sk-container-id-2 input.sk-toggleable__control:checked~label.sk-toggleable__label-arrow:before {\n",
              "  content: \"▾\";\n",
              "}\n",
              "\n",
              "/* Pipeline/ColumnTransformer-specific style */\n",
              "\n",
              "#sk-container-id-2 div.sk-label input.sk-toggleable__control:checked~label.sk-toggleable__label {\n",
              "  color: var(--sklearn-color-text);\n",
              "  background-color: var(--sklearn-color-unfitted-level-2);\n",
              "}\n",
              "\n",
              "#sk-container-id-2 div.sk-label.fitted input.sk-toggleable__control:checked~label.sk-toggleable__label {\n",
              "  background-color: var(--sklearn-color-fitted-level-2);\n",
              "}\n",
              "\n",
              "/* Estimator-specific style */\n",
              "\n",
              "/* Colorize estimator box */\n",
              "#sk-container-id-2 div.sk-estimator input.sk-toggleable__control:checked~label.sk-toggleable__label {\n",
              "  /* unfitted */\n",
              "  background-color: var(--sklearn-color-unfitted-level-2);\n",
              "}\n",
              "\n",
              "#sk-container-id-2 div.sk-estimator.fitted input.sk-toggleable__control:checked~label.sk-toggleable__label {\n",
              "  /* fitted */\n",
              "  background-color: var(--sklearn-color-fitted-level-2);\n",
              "}\n",
              "\n",
              "#sk-container-id-2 div.sk-label label.sk-toggleable__label,\n",
              "#sk-container-id-2 div.sk-label label {\n",
              "  /* The background is the default theme color */\n",
              "  color: var(--sklearn-color-text-on-default-background);\n",
              "}\n",
              "\n",
              "/* On hover, darken the color of the background */\n",
              "#sk-container-id-2 div.sk-label:hover label.sk-toggleable__label {\n",
              "  color: var(--sklearn-color-text);\n",
              "  background-color: var(--sklearn-color-unfitted-level-2);\n",
              "}\n",
              "\n",
              "/* Label box, darken color on hover, fitted */\n",
              "#sk-container-id-2 div.sk-label.fitted:hover label.sk-toggleable__label.fitted {\n",
              "  color: var(--sklearn-color-text);\n",
              "  background-color: var(--sklearn-color-fitted-level-2);\n",
              "}\n",
              "\n",
              "/* Estimator label */\n",
              "\n",
              "#sk-container-id-2 div.sk-label label {\n",
              "  font-family: monospace;\n",
              "  font-weight: bold;\n",
              "  display: inline-block;\n",
              "  line-height: 1.2em;\n",
              "}\n",
              "\n",
              "#sk-container-id-2 div.sk-label-container {\n",
              "  text-align: center;\n",
              "}\n",
              "\n",
              "/* Estimator-specific */\n",
              "#sk-container-id-2 div.sk-estimator {\n",
              "  font-family: monospace;\n",
              "  border: 1px dotted var(--sklearn-color-border-box);\n",
              "  border-radius: 0.25em;\n",
              "  box-sizing: border-box;\n",
              "  margin-bottom: 0.5em;\n",
              "  /* unfitted */\n",
              "  background-color: var(--sklearn-color-unfitted-level-0);\n",
              "}\n",
              "\n",
              "#sk-container-id-2 div.sk-estimator.fitted {\n",
              "  /* fitted */\n",
              "  background-color: var(--sklearn-color-fitted-level-0);\n",
              "}\n",
              "\n",
              "/* on hover */\n",
              "#sk-container-id-2 div.sk-estimator:hover {\n",
              "  /* unfitted */\n",
              "  background-color: var(--sklearn-color-unfitted-level-2);\n",
              "}\n",
              "\n",
              "#sk-container-id-2 div.sk-estimator.fitted:hover {\n",
              "  /* fitted */\n",
              "  background-color: var(--sklearn-color-fitted-level-2);\n",
              "}\n",
              "\n",
              "/* Specification for estimator info (e.g. \"i\" and \"?\") */\n",
              "\n",
              "/* Common style for \"i\" and \"?\" */\n",
              "\n",
              ".sk-estimator-doc-link,\n",
              "a:link.sk-estimator-doc-link,\n",
              "a:visited.sk-estimator-doc-link {\n",
              "  float: right;\n",
              "  font-size: smaller;\n",
              "  line-height: 1em;\n",
              "  font-family: monospace;\n",
              "  background-color: var(--sklearn-color-background);\n",
              "  border-radius: 1em;\n",
              "  height: 1em;\n",
              "  width: 1em;\n",
              "  text-decoration: none !important;\n",
              "  margin-left: 0.5em;\n",
              "  text-align: center;\n",
              "  /* unfitted */\n",
              "  border: var(--sklearn-color-unfitted-level-1) 1pt solid;\n",
              "  color: var(--sklearn-color-unfitted-level-1);\n",
              "}\n",
              "\n",
              ".sk-estimator-doc-link.fitted,\n",
              "a:link.sk-estimator-doc-link.fitted,\n",
              "a:visited.sk-estimator-doc-link.fitted {\n",
              "  /* fitted */\n",
              "  border: var(--sklearn-color-fitted-level-1) 1pt solid;\n",
              "  color: var(--sklearn-color-fitted-level-1);\n",
              "}\n",
              "\n",
              "/* On hover */\n",
              "div.sk-estimator:hover .sk-estimator-doc-link:hover,\n",
              ".sk-estimator-doc-link:hover,\n",
              "div.sk-label-container:hover .sk-estimator-doc-link:hover,\n",
              ".sk-estimator-doc-link:hover {\n",
              "  /* unfitted */\n",
              "  background-color: var(--sklearn-color-unfitted-level-3);\n",
              "  color: var(--sklearn-color-background);\n",
              "  text-decoration: none;\n",
              "}\n",
              "\n",
              "div.sk-estimator.fitted:hover .sk-estimator-doc-link.fitted:hover,\n",
              ".sk-estimator-doc-link.fitted:hover,\n",
              "div.sk-label-container:hover .sk-estimator-doc-link.fitted:hover,\n",
              ".sk-estimator-doc-link.fitted:hover {\n",
              "  /* fitted */\n",
              "  background-color: var(--sklearn-color-fitted-level-3);\n",
              "  color: var(--sklearn-color-background);\n",
              "  text-decoration: none;\n",
              "}\n",
              "\n",
              "/* Span, style for the box shown on hovering the info icon */\n",
              ".sk-estimator-doc-link span {\n",
              "  display: none;\n",
              "  z-index: 9999;\n",
              "  position: relative;\n",
              "  font-weight: normal;\n",
              "  right: .2ex;\n",
              "  padding: .5ex;\n",
              "  margin: .5ex;\n",
              "  width: min-content;\n",
              "  min-width: 20ex;\n",
              "  max-width: 50ex;\n",
              "  color: var(--sklearn-color-text);\n",
              "  box-shadow: 2pt 2pt 4pt #999;\n",
              "  /* unfitted */\n",
              "  background: var(--sklearn-color-unfitted-level-0);\n",
              "  border: .5pt solid var(--sklearn-color-unfitted-level-3);\n",
              "}\n",
              "\n",
              ".sk-estimator-doc-link.fitted span {\n",
              "  /* fitted */\n",
              "  background: var(--sklearn-color-fitted-level-0);\n",
              "  border: var(--sklearn-color-fitted-level-3);\n",
              "}\n",
              "\n",
              ".sk-estimator-doc-link:hover span {\n",
              "  display: block;\n",
              "}\n",
              "\n",
              "/* \"?\"-specific style due to the `<a>` HTML tag */\n",
              "\n",
              "#sk-container-id-2 a.estimator_doc_link {\n",
              "  float: right;\n",
              "  font-size: 1rem;\n",
              "  line-height: 1em;\n",
              "  font-family: monospace;\n",
              "  background-color: var(--sklearn-color-background);\n",
              "  border-radius: 1rem;\n",
              "  height: 1rem;\n",
              "  width: 1rem;\n",
              "  text-decoration: none;\n",
              "  /* unfitted */\n",
              "  color: var(--sklearn-color-unfitted-level-1);\n",
              "  border: var(--sklearn-color-unfitted-level-1) 1pt solid;\n",
              "}\n",
              "\n",
              "#sk-container-id-2 a.estimator_doc_link.fitted {\n",
              "  /* fitted */\n",
              "  border: var(--sklearn-color-fitted-level-1) 1pt solid;\n",
              "  color: var(--sklearn-color-fitted-level-1);\n",
              "}\n",
              "\n",
              "/* On hover */\n",
              "#sk-container-id-2 a.estimator_doc_link:hover {\n",
              "  /* unfitted */\n",
              "  background-color: var(--sklearn-color-unfitted-level-3);\n",
              "  color: var(--sklearn-color-background);\n",
              "  text-decoration: none;\n",
              "}\n",
              "\n",
              "#sk-container-id-2 a.estimator_doc_link.fitted:hover {\n",
              "  /* fitted */\n",
              "  background-color: var(--sklearn-color-fitted-level-3);\n",
              "}\n",
              "</style><div id=\"sk-container-id-2\" class=\"sk-top-container\"><div class=\"sk-text-repr-fallback\"><pre>RandomForestClassifier(criterion=&#x27;entropy&#x27;)</pre><b>In a Jupyter environment, please rerun this cell to show the HTML representation or trust the notebook. <br />On GitHub, the HTML representation is unable to render, please try loading this page with nbviewer.org.</b></div><div class=\"sk-container\" hidden><div class=\"sk-item\"><div class=\"sk-estimator fitted sk-toggleable\"><input class=\"sk-toggleable__control sk-hidden--visually\" id=\"sk-estimator-id-2\" type=\"checkbox\" checked><label for=\"sk-estimator-id-2\" class=\"sk-toggleable__label fitted sk-toggleable__label-arrow\"><div><div>RandomForestClassifier</div></div><div><a class=\"sk-estimator-doc-link fitted\" rel=\"noreferrer\" target=\"_blank\" href=\"https://scikit-learn.org/1.6/modules/generated/sklearn.ensemble.RandomForestClassifier.html\">?<span>Documentation for RandomForestClassifier</span></a><span class=\"sk-estimator-doc-link fitted\">i<span>Fitted</span></span></div></label><div class=\"sk-toggleable__content fitted\"><pre>RandomForestClassifier(criterion=&#x27;entropy&#x27;)</pre></div> </div></div></div></div>"
            ]
          },
          "metadata": {},
          "execution_count": 32
        }
      ]
    },
    {
      "cell_type": "code",
      "source": [
        "rf_y_pred = rf_classifier.predict(X_test)"
      ],
      "metadata": {
        "id": "7vEUE_hYi7t_"
      },
      "execution_count": 34,
      "outputs": []
    },
    {
      "cell_type": "code",
      "source": [
        "score1 = accuracy_score(y_test, rf_y_pred)\n",
        "score2 = precision_score(y_test, rf_y_pred)\n",
        "score3 = recall_score(y_test, rf_y_pred)\n",
        "print(\"---- Scores ----\")\n",
        "print(\"Accuracy score is: {}%\".format(round(score1*100,2)))\n",
        "print(\"Precision score is: {}\".format(round(score2,2)))\n",
        "print(\"Recall score is: {}\".format(round(score3,2)))"
      ],
      "metadata": {
        "colab": {
          "base_uri": "https://localhost:8080/"
        },
        "id": "fBFjAEI8iaId",
        "outputId": "0bcf05de-d378-47c0-b2c2-203505e76c17"
      },
      "execution_count": 35,
      "outputs": [
        {
          "output_type": "stream",
          "name": "stdout",
          "text": [
            "---- Scores ----\n",
            "Accuracy score is: 85.19%\n",
            "Precision score is: 0.83\n",
            "Recall score is: 0.89\n"
          ]
        }
      ]
    },
    {
      "cell_type": "markdown",
      "source": [
        "# PREDICTION"
      ],
      "metadata": {
        "id": "d1_qGlzpjJk8"
      }
    },
    {
      "cell_type": "code",
      "source": [
        "import re\n",
        "\n",
        "def stock_prediction(sample_news):\n",
        "  sample_news = re.sub(pattern='[^a-zA-Z]',repl=' ', string=sample_news)\n",
        "  sample_news = sample_news.lower()\n",
        "  sample_news_words = sample_news.split()\n",
        "  sample_news_words = [word for word in sample_news_words if not word in set(stopwords.words('english'))]\n",
        "  ps = PorterStemmer()\n",
        "  final_news = [ps.stem(word) for word in sample_news_words]\n",
        "  final_news = ' '.join(final_news)\n",
        "\n",
        "  temp = cv.transform([final_news]).toarray()\n",
        "  return lr_classifier.predict(temp)"
      ],
      "metadata": {
        "id": "2m_OkKWHifw8"
      },
      "execution_count": 36,
      "outputs": []
    },
    {
      "cell_type": "code",
      "source": [
        "# For generating random integer\n",
        "from random import randint"
      ],
      "metadata": {
        "id": "ToOWchVTjMsO"
      },
      "execution_count": 37,
      "outputs": []
    },
    {
      "cell_type": "code",
      "source": [
        "sample_test = df_copy[df_copy['Date'] > '20141231']"
      ],
      "metadata": {
        "id": "18-BJH91jO0p"
      },
      "execution_count": 38,
      "outputs": []
    },
    {
      "cell_type": "code",
      "source": [
        "sample_test.reset_index(inplace=True)\n",
        "sample_test = sample_test['Top1']"
      ],
      "metadata": {
        "id": "knhMCZX6jQ7T"
      },
      "execution_count": 39,
      "outputs": []
    },
    {
      "cell_type": "markdown",
      "source": [
        "# random sample of headlines w/ prediction"
      ],
      "metadata": {
        "id": "PP2YlkTeje-e"
      }
    },
    {
      "cell_type": "code",
      "source": [
        "row = randint(0,sample_test.shape[0]-1)\n",
        "sample_news = sample_test[row]\n",
        "\n",
        "print('News: {}'.format(sample_news))\n",
        "if stock_prediction(sample_news):\n",
        "  print('Prediction: The stock price will remain the same or will go down.')\n",
        "else:\n",
        "  print('Prediction: The stock price will go up!')"
      ],
      "metadata": {
        "colab": {
          "base_uri": "https://localhost:8080/"
        },
        "id": "_Wle1pHvjTAK",
        "outputId": "032395fa-73e2-43c4-cede-a3c3b34d0532"
      },
      "execution_count": 40,
      "outputs": [
        {
          "output_type": "stream",
          "name": "stdout",
          "text": [
            "News: Twitter has forced 30 websites that archive politician's deleted tweets to shut down, removing an effective tool to keep politicians honest\n",
            "Prediction: The stock price will remain the same or will go down.\n"
          ]
        }
      ]
    },
    {
      "cell_type": "code",
      "source": [
        "row = randint(0,sample_test.shape[0]-1)\n",
        "sample_news = sample_test[row]\n",
        "\n",
        "print('News: {}'.format(sample_news))\n",
        "if stock_prediction(sample_news):\n",
        "  print('Prediction: The stock price will remain the same or will go down.')\n",
        "else:\n",
        "  print('Prediction: The stock price will go up!')"
      ],
      "metadata": {
        "colab": {
          "base_uri": "https://localhost:8080/"
        },
        "id": "F9PPlSZ5jWpM",
        "outputId": "09f09247-1b64-4d24-9c12-b0a6e90fe805"
      },
      "execution_count": 41,
      "outputs": [
        {
          "output_type": "stream",
          "name": "stdout",
          "text": [
            "News: Canada will not sign a Trans-Pacific Partnership trade deal that would allow Japanese vehicles into North America with fewer parts manufactured here, says Ed Fast, the federal minister of international trade.\n",
            "Prediction: The stock price will go up!\n"
          ]
        }
      ]
    },
    {
      "cell_type": "code",
      "source": [
        "row = randint(0,sample_test.shape[0]-1)\n",
        "sample_news = sample_test[row]\n",
        "\n",
        "print('News: {}'.format(sample_news))\n",
        "if stock_prediction(sample_news):\n",
        "  print('Prediction: The stock price will remain the same or will go down.')\n",
        "else:\n",
        "  print('Prediction: The stock price will go up!')"
      ],
      "metadata": {
        "colab": {
          "base_uri": "https://localhost:8080/"
        },
        "id": "Rcz5C9dOjZfR",
        "outputId": "9f813b86-5b15-4090-f929-0f87ae9f5ad1"
      },
      "execution_count": 42,
      "outputs": [
        {
          "output_type": "stream",
          "name": "stdout",
          "text": [
            "News: Medical marijuana legal in all forms, Supreme Court rules (Canada)\n",
            "Prediction: The stock price will remain the same or will go down.\n"
          ]
        }
      ]
    },
    {
      "cell_type": "code",
      "source": [
        "row = randint(0,sample_test.shape[0]-1)\n",
        "sample_news = sample_test[row]\n",
        "\n",
        "print('News: {}'.format(sample_news))\n",
        "if stock_prediction(sample_news):\n",
        "  print('Prediction: The stock price will remain the same or will go down.')\n",
        "else:\n",
        "  print('Prediction: The stock price will go up!')"
      ],
      "metadata": {
        "colab": {
          "base_uri": "https://localhost:8080/"
        },
        "id": "nAPCJWGLjaTl",
        "outputId": "829c0141-805b-41d2-953c-cf1c4dd75cb9"
      },
      "execution_count": 43,
      "outputs": [
        {
          "output_type": "stream",
          "name": "stdout",
          "text": [
            "News: Another drug Cycloserine sees a 2000% price jump overnight as patent sold to pharmaceutical company. The ensuing backlash caused the companies to reverse their deal. Expert says If it weren't for all of the negative publicity the original 2,000 per cent price hike would still stand.\n",
            "Prediction: The stock price will go up!\n"
          ]
        }
      ]
    },
    {
      "cell_type": "code",
      "source": [],
      "metadata": {
        "id": "cqs8-BDWjbQ5"
      },
      "execution_count": null,
      "outputs": []
    }
  ]
}